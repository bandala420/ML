{
 "cells": [
  {
   "cell_type": "code",
   "execution_count": 1,
   "id": "f3a78456",
   "metadata": {},
   "outputs": [],
   "source": [
    "import csv\n",
    "import numpy as np\n",
    "from math import sqrt\n",
    "import matplotlib.pyplot as plt"
   ]
  },
  {
   "cell_type": "code",
   "execution_count": 2,
   "id": "d911c2a9",
   "metadata": {},
   "outputs": [],
   "source": [
    "def spCoef(n):\n",
    "    s = [0]*(n+1)\n",
    "    sig = [0]*(n+1)\n",
    "    tau = [0]*(n+1)\n",
    "    sig[1]=0\n",
    "    tau[1]=0\n",
    "    for i in range(1,n-1):\n",
    "        Him1=x[i]-x[i-1]\n",
    "        Hi=x[i+1]-x[i]\n",
    "        temp=(Him1/Hi)*(sig[i]+2)+2\n",
    "        sig[i+1]=-1/temp\n",
    "        d=6*((y[i+1]-y[i])/Hi - (y[i]-y[i-1])/Him1)/Hi\n",
    "        tau[i+1]=(d-Him1*tau[i]/Hi)/temp\n",
    "    s[1]=0\n",
    "    s[n]=0\n",
    "    for i in range(1,n-1):\n",
    "        ib=n-i\n",
    "        s[ib]=sig[ib+1]*s[ib+1]+tau[ib+1]\n",
    "    return s"
   ]
  },
  {
   "cell_type": "code",
   "execution_count": 3,
   "id": "ff923305",
   "metadata": {},
   "outputs": [],
   "source": [
    "def spline(n,alpha,s):\n",
    "    for i in range(1,n+1):\n",
    "        if (alpha<=x[i]):\n",
    "            break;\n",
    "    i=i-1\n",
    "    a=x[i+1]-alpha\n",
    "    b=alpha-x[i]\n",
    "    hi=x[i+1]-x[i]\n",
    "    beta=a*s[i]*(a*a/hi-hi)/6+b*s[i+1]*(b*b/hi-hi)/6+(a*y[i]+b*y[i+1])/hi\n",
    "    return beta"
   ]
  },
  {
   "cell_type": "code",
   "execution_count": 4,
   "id": "a322942d",
   "metadata": {},
   "outputs": [],
   "source": [
    "def readCsvFile(filePath):\n",
    "    with open(filePath,'r') as f:\n",
    "        reader = csv.reader(f)\n",
    "        data = list(reader)\n",
    "    for line in data:\n",
    "        x.append(float(line[0]))\n",
    "        y.append(float(line[1]))\n",
    "    print(\"X:\")\n",
    "    print(x)\n",
    "    print(\"Y:\")\n",
    "    print(y)"
   ]
  },
  {
   "cell_type": "code",
   "execution_count": 5,
   "id": "e1b373c5",
   "metadata": {},
   "outputs": [],
   "source": [
    "def sortPoints():\n",
    "    for i in range(1,n):\n",
    "        tmin=x[i]\n",
    "        imin=i\n",
    "        for j in range(i+1,n-1):\n",
    "            if tmin>x[j]:\n",
    "                tmin=x[j]\n",
    "                imin=j\n",
    "        if imin!=i:\n",
    "            x[imin]=x[i]\n",
    "            x[i]=tmin\n",
    "            tmin=y[imin]\n",
    "            y[imin]=y[i]\n",
    "            y[i]=tmin"
   ]
  },
  {
   "cell_type": "code",
   "execution_count": 6,
   "id": "dcfcd7e3",
   "metadata": {},
   "outputs": [],
   "source": [
    "def generateSpline(n):\n",
    "    # sort points respect independent variable\n",
    "    sortPoints()\n",
    "    # get second derivatives coeficients\n",
    "    s = spCoef(n)\n",
    "    xini = x[0]\n",
    "    xfin = x[len(x)-1]\n",
    "    x_new = np.linspace(xini, xfin, 201)\n",
    "    y_new = []\n",
    "    for xn in x_new:\n",
    "        y_ip = spline(n,xn,s)\n",
    "        y_new.append(y_ip)\n",
    "    plt.scatter(x, y)\n",
    "    plt.plot(x_new, y_new)\n",
    "    plt.grid()\n",
    "    plt.show()"
   ]
  },
  {
   "cell_type": "markdown",
   "id": "a3705fe6",
   "metadata": {},
   "source": [
    "## Create spline from csv file"
   ]
  },
  {
   "cell_type": "markdown",
   "id": "9041b2f2",
   "metadata": {},
   "source": [
    "A partir de la curva sigmoide definidia por la función\n",
    "$$\\frac{1}{1+e^{-x}}$$\n",
    "se toman 10 puntos a lo largo del dominio $$x \\in [-8,10]$$  y se calculan los Splines que interpolan dicha curva para interpolar 201 puntos en el mismo dominio. Se presenta un gráfico para evaluar cualitativamente el resultado."
   ]
  },
  {
   "cell_type": "code",
   "execution_count": 7,
   "id": "1dbb9f67",
   "metadata": {
    "scrolled": false
   },
   "outputs": [
    {
     "name": "stdout",
     "output_type": "stream",
     "text": [
      "X:\n",
      "[-8.0, -6.0, -4.0, -2.0, 0.0, 2.0, 4.0, 6.0, 8.0, 10.0]\n",
      "Y:\n",
      "[0.0003, 0.0024, 0.0179, 0.1192, 0.5, 0.8807, 0.982, 0.9975, 0.9996, 0.9999]\n"
     ]
    },
    {
     "data": {
      "image/png": "[encoded data removed]",
      "text/plain": [
       "<Figure size 432x288 with 1 Axes>"
      ]
     },
     "metadata": {
      "needs_background": "light"
     },
     "output_type": "display_data"
    }
   ],
   "source": [
    "# data variables\n",
    "x=[]\n",
    "y=[]\n",
    "# read csv file\n",
    "readCsvFile(\"sigmoidValues.csv\")\n",
    "# get x length\n",
    "n = len(x)\n",
    "if (n>3):\n",
    "    generateSpline(n)\n",
    "else:\n",
    "    print(\"Error: El algoritmo requiere de al menos 4 puntos coordenados\")"
   ]
  },
  {
   "cell_type": "code",
   "execution_count": null,
   "id": "97b5dc15",
   "metadata": {},
   "outputs": [],
   "source": []
  },
  {
   "cell_type": "code",
   "execution_count": null,
   "id": "677e302b",
   "metadata": {},
   "outputs": [],
   "source": []
  },
  {
   "cell_type": "code",
   "execution_count": null,
   "id": "9476f489",
   "metadata": {},
   "outputs": [],
   "source": []
  },
  {
   "cell_type": "code",
   "execution_count": null,
   "id": "cf4e45d5",
   "metadata": {},
   "outputs": [],
   "source": []
  },
  {
   "cell_type": "code",
   "execution_count": 113,
   "id": "e02b4f68",
   "metadata": {},
   "outputs": [],
   "source": []
  },
  {
   "cell_type": "markdown",
   "id": "84481fea",
   "metadata": {},
   "source": [
    "## another aproach"
   ]
  },
  {
   "cell_type": "code",
   "execution_count": 2,
   "id": "6e9c2a7e",
   "metadata": {},
   "outputs": [],
   "source": [
    "def cubic_interp1d(x0, x, y):\n",
    "    \"\"\"\n",
    "    Interpolate a 1-D function using cubic splines.\n",
    "      x0 : a float or an 1d-array\n",
    "      x : (N,) array_like\n",
    "          A 1-D array of real/complex values.\n",
    "      y : (N,) array_like\n",
    "          A 1-D array of real values. The length of y along the\n",
    "          interpolation axis must be equal to the length of x.\n",
    "\n",
    "    Implement a trick to generate at first step the cholesky matrice L of\n",
    "    the tridiagonal matrice A (thus L is a bidiagonal matrice that\n",
    "    can be solved in two distinct loops).\n",
    "\n",
    "    additional ref: www.math.uh.edu/~jingqiu/math4364/spline.pdf \n",
    "    \"\"\"\n",
    "    x = np.asfarray(x)\n",
    "    y = np.asfarray(y)\n",
    "\n",
    "    # remove non finite values\n",
    "    # indexes = np.isfinite(x)\n",
    "    # x = x[indexes]\n",
    "    # y = y[indexes]\n",
    "\n",
    "    # check if sorted\n",
    "    if np.any(np.diff(x) < 0):\n",
    "        indexes = np.argsort(x)\n",
    "        x = x[indexes]\n",
    "        y = y[indexes]\n",
    "\n",
    "    size = len(x)\n",
    "\n",
    "    xdiff = np.diff(x)\n",
    "    ydiff = np.diff(y)\n",
    "\n",
    "    # allocate buffer matrices\n",
    "    Li = np.empty(size)\n",
    "    Li_1 = np.empty(size-1)\n",
    "    z = np.empty(size)\n",
    "\n",
    "    # fill diagonals Li and Li-1 and solve [L][y] = [B]\n",
    "    Li[0] = sqrt(2*xdiff[0])\n",
    "    Li_1[0] = 0.0\n",
    "    B0 = 0.0 # natural boundary\n",
    "    z[0] = B0 / Li[0]\n",
    "\n",
    "    for i in range(1, size-1, 1):\n",
    "        Li_1[i] = xdiff[i-1] / Li[i-1]\n",
    "        Li[i] = sqrt(2*(xdiff[i-1]+xdiff[i]) - Li_1[i-1] * Li_1[i-1])\n",
    "        Bi = 6*(ydiff[i]/xdiff[i] - ydiff[i-1]/xdiff[i-1])\n",
    "        z[i] = (Bi - Li_1[i-1]*z[i-1])/Li[i]\n",
    "\n",
    "    i = size - 1\n",
    "    Li_1[i-1] = xdiff[-1] / Li[i-1]\n",
    "    Li[i] = sqrt(2*xdiff[-1] - Li_1[i-1] * Li_1[i-1])\n",
    "    Bi = 0.0 # natural boundary\n",
    "    z[i] = (Bi - Li_1[i-1]*z[i-1])/Li[i]\n",
    "\n",
    "    # solve [L.T][x] = [y]\n",
    "    i = size-1\n",
    "    z[i] = z[i] / Li[i]\n",
    "    for i in range(size-2, -1, -1):\n",
    "        z[i] = (z[i] - Li_1[i-1]*z[i+1])/Li[i]\n",
    "\n",
    "    # find index\n",
    "    index = x.searchsorted(x0)\n",
    "    np.clip(index, 1, size-1, index)\n",
    "\n",
    "    xi1, xi0 = x[index], x[index-1]\n",
    "    yi1, yi0 = y[index], y[index-1]\n",
    "    zi1, zi0 = z[index], z[index-1]\n",
    "    hi1 = xi1 - xi0\n",
    "\n",
    "    # calculate cubic\n",
    "    f0 = zi0/(6*hi1)*(xi1-x0)**3 + \\\n",
    "         zi1/(6*hi1)*(x0-xi0)**3 + \\\n",
    "         (yi1/hi1 - zi1*hi1/6)*(x0-xi0) + \\\n",
    "         (yi0/hi1 - zi0*hi1/6)*(xi1-x0)\n",
    "    return f0\n"
   ]
  },
  {
   "cell_type": "code",
   "execution_count": 8,
   "id": "30c1a821",
   "metadata": {},
   "outputs": [
    {
     "data": {
      "image/png": "[encoded data removed]",
      "text/plain": [
       "<Figure size 432x288 with 1 Axes>"
      ]
     },
     "metadata": {
      "needs_background": "light"
     },
     "output_type": "display_data"
    }
   ],
   "source": [
    "x = np.linspace(0, 10, 11)\n",
    "y = np.sin(x)\n",
    "plt.scatter(x, y)\n",
    "\n",
    "x_new = np.linspace(0, 10, 201)\n",
    "plt.plot(x_new, cubic_interp1d(x_new, x, y))\n",
    "\n",
    "plt.show()"
   ]
  },
  {
   "cell_type": "code",
   "execution_count": null,
   "id": "58b4b75c",
   "metadata": {},
   "outputs": [],
   "source": []
  }
 ],
 "metadata": {
  "kernelspec": {
   "display_name": "Python 3 (ipykernel)",
   "language": "python",
   "name": "python3"
  },
  "language_info": {
   "codemirror_mode": {
    "name": "ipython",
    "version": 3
   },
   "file_extension": ".py",
   "mimetype": "text/x-python",
   "name": "python",
   "nbconvert_exporter": "python",
   "pygments_lexer": "ipython3",
   "version": "3.8.10"
  }
 },
 "nbformat": 4,
 "nbformat_minor": 5
}
