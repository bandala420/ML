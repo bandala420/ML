{
 "cells": [
  {
   "cell_type": "code",
   "execution_count": 1,
   "id": "e4b46f8c-b746-41ed-ae9c-c21718c20a7c",
   "metadata": {},
   "outputs": [],
   "source": [
    "# Daniel Bandala @ apr 2022\n",
    "import tensorflow as tf\n",
    "from tensorflow.keras.layers import Layer"
   ]
  },
  {
   "cell_type": "code",
   "execution_count": 2,
   "id": "4440f789-bdca-464a-9307-77f94064556d",
   "metadata": {},
   "outputs": [],
   "source": [
    "class RNNCell(Layer):\n",
    "    def __init__(self,rnn_units,input_dim,output_dim):\n",
    "        super(RNNCell,self).__init__()\n",
    "        # initialize weights matrices\n",
    "        self.W_xh = self.add_weight(shape=(rnn_units,input_dim),\n",
    "                               initializer='random_normal',\n",
    "                               trainable=True)\n",
    "        self.W_hh = self.add_weight(shape=(rnn_units,rnn_units),\n",
    "                               initializer='random_normal',\n",
    "                               trainable=True)\n",
    "        self.W_hy = self.add_weight(shape=(output_dim,rnn_units),\n",
    "                               initializer='random_normal',\n",
    "                               trainable=True)\n",
    "        # initialize hidden state\n",
    "        self.h = tf.zeros([rnn_units,1])\n",
    "    \n",
    "    def call(self,x):\n",
    "        # update hidden state\n",
    "        self.h = tf.math.tanh(self.W_hh*self.h + self.W_xh*x)\n",
    "        # compute output\n",
    "        output = self.W_hy*self.h\n",
    "        # return current output and hidden state\n",
    "        return output,self.h"
   ]
  },
  {
   "cell_type": "code",
   "execution_count": 4,
   "id": "b6ae06cd-bb1d-4d1d-8b56-209a1d6a89cc",
   "metadata": {},
   "outputs": [],
   "source": [
    "my_rnncell = RNNCell(1,6,6)"
   ]
  },
  {
   "cell_type": "code",
   "execution_count": 5,
   "id": "594d57bd-9763-46a3-9d13-c0f09c7989c8",
   "metadata": {},
   "outputs": [
    {
     "data": {
      "text/plain": [
       "<__main__.RNNCell at 0x7f35d5c51550>"
      ]
     },
     "execution_count": 5,
     "metadata": {},
     "output_type": "execute_result"
    }
   ],
   "source": [
    "my_rnncell"
   ]
  },
  {
   "cell_type": "code",
   "execution_count": 6,
   "id": "1fa470bf-bb86-4b94-8009-2f00fd3001d7",
   "metadata": {},
   "outputs": [
    {
     "data": {
      "text/plain": [
       "<keras.layers.recurrent.SimpleRNN at 0x7f35c81e09d0>"
      ]
     },
     "execution_count": 6,
     "metadata": {},
     "output_type": "execute_result"
    }
   ],
   "source": [
    "# using tensorflow\n",
    "tf_rnncell = tf.keras.layers.SimpleRNN(2)\n",
    "tf_rnncell"
   ]
  },
  {
   "cell_type": "code",
   "execution_count": null,
   "id": "7a852c1b-748e-4bd1-a22c-29d59788248f",
   "metadata": {},
   "outputs": [],
   "source": []
  }
 ],
 "metadata": {
  "kernelspec": {
   "display_name": "Python 3 (ipykernel)",
   "language": "python",
   "name": "python3"
  },
  "language_info": {
   "codemirror_mode": {
    "name": "ipython",
    "version": 3
   },
   "file_extension": ".py",
   "mimetype": "text/x-python",
   "name": "python",
   "nbconvert_exporter": "python",
   "pygments_lexer": "ipython3",
   "version": "3.8.10"
  }
 },
 "nbformat": 4,
 "nbformat_minor": 5
}
